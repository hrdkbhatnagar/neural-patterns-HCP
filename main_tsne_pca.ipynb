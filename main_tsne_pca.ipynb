{
  "nbformat": 4,
  "nbformat_minor": 0,
  "metadata": {
    "colab": {
      "name": "main_tsne_pca.ipynb",
      "provenance": [],
      "collapsed_sections": []
    },
    "kernelspec": {
      "name": "python3",
      "display_name": "Python 3"
    },
    "accelerator": "GPU"
  },
  "cells": [
    {
      "cell_type": "markdown",
      "metadata": {
        "id": "oIvhc_R1D6k1"
      },
      "source": [
        "# Dataset\n",
        "\n",
        "The HCP dataset comprises resting-state and task-based fMRI from a 339 human subjects, and spatially downsampled by aggreating within 360 parcels of the brain.\n"
      ]
    },
    {
      "cell_type": "code",
      "metadata": {
        "id": "fXIw61Dk-M5E"
      },
      "source": [
        "import os\n",
        "import numpy as np\n",
        "import matplotlib.pyplot as plt\n",
        "from sklearn.decomposition import PCA\n",
        "from sklearn.manifold import TSNE\n",
        "from sklearn.linear_model import LogisticRegression\n",
        "from sklearn.model_selection import cross_val_score\n",
        "from sklearn.preprocessing import StandardScaler"
      ],
      "execution_count": 1,
      "outputs": []
    },
    {
      "cell_type": "code",
      "metadata": {
        "id": "3Qrlrgs_rlOn"
      },
      "source": [
        "#helper\n",
        "def visualize_components(component1, component2, labels, show=True):\n",
        "  \"\"\"\n",
        "  Plots a 2D representation of the data for visualization with categories\n",
        "  labelled as different colors.\n",
        "\n",
        "  Args:\n",
        "    component1 (numpy array of floats) : Vector of component 1 scores\n",
        "    component2 (numpy array of floats) : Vector of component 2 scores\n",
        "    labels (numpy array of floats)     : Vector corresponding to categories of\n",
        "                                         samples\n",
        "  Returns:\n",
        "    Nothing\n",
        "  \"\"\"\n",
        "  n = np.arange(0,len(labels))\n",
        "  plt.figure()\n",
        "  cmap = plt.cm.get_cmap('tab10')\n",
        "  plt.scatter(x=component1, y=component2, c=labels, cmap=cmap)\n",
        "  for i, txt in enumerate(n):\n",
        "    plt.annotate(txt, (component1[i], component2[i]))\n",
        "  plt.xlabel('Component 1')\n",
        "  plt.ylabel('Component 2')\n",
        "  plt.colorbar(ticks=range(3))\n",
        "  plt.clim(-0.5, 9.5)\n",
        "  if show:\n",
        "    plt.show()"
      ],
      "execution_count": 2,
      "outputs": []
    },
    {
      "cell_type": "markdown",
      "metadata": {
        "id": "CSdEhS5jKzkb"
      },
      "source": [
        "# Basic parameters"
      ]
    },
    {
      "cell_type": "code",
      "metadata": {
        "id": "oL4crLoCzkzk"
      },
      "source": [
        "# The download cells will store the data in nested directories starting here:\n",
        "HCP_DIR = \"./hcp\"\n",
        "if not os.path.isdir(HCP_DIR):\n",
        "  os.mkdir(HCP_DIR)\n",
        "\n",
        "# The data shared for NMA projects is a subset of the full HCP dataset\n",
        "N_SUBJECTS = 339\n",
        "\n",
        "# The data have already been aggregated into ROIs from the Glasesr parcellation\n",
        "N_PARCELS = 360\n",
        "\n",
        "# The acquisition parameters for all tasks were identical\n",
        "TR = 0.72  # Time resolution, in sec\n",
        "\n",
        "# The parcels are matched across hemispheres with the same order\n",
        "HEMIS = [\"Right\", \"Left\"]\n",
        "\n",
        "# Each experiment was repeated multiple times in each subject\n",
        "N_RUNS_REST = 4\n",
        "N_RUNS_TASK = 2\n",
        "\n",
        "# Time series data are organized by experiment, with each experiment\n",
        "# having an LR and RL (phase-encode direction) acquistion\n",
        "BOLD_NAMES = [\n",
        "  \"rfMRI_REST1_LR\", \"rfMRI_REST1_RL\",\n",
        "  \"rfMRI_REST2_LR\", \"rfMRI_REST2_RL\",\n",
        "  \"tfMRI_MOTOR_RL\", \"tfMRI_MOTOR_LR\",\n",
        "  \"tfMRI_WM_RL\", \"tfMRI_WM_LR\",\n",
        "  \"tfMRI_EMOTION_RL\", \"tfMRI_EMOTION_LR\",\n",
        "  \"tfMRI_GAMBLING_RL\", \"tfMRI_GAMBLING_LR\",\n",
        "  \"tfMRI_LANGUAGE_RL\", \"tfMRI_LANGUAGE_LR\",\n",
        "  \"tfMRI_RELATIONAL_RL\", \"tfMRI_RELATIONAL_LR\",\n",
        "  \"tfMRI_SOCIAL_RL\", \"tfMRI_SOCIAL_LR\"\n",
        "]\n",
        "\n",
        "subjects = range(N_SUBJECTS)"
      ],
      "execution_count": 3,
      "outputs": []
    },
    {
      "cell_type": "code",
      "metadata": {
        "id": "5ubuyGN7siwI"
      },
      "source": [
        "fname = \"hcp_task.tgz\"\n",
        "if not os.path.exists(fname):\n",
        "  !wget -qO $fname https://osf.io/s4h8j/download/\n",
        "  !tar -xzf $fname -C $HCP_DIR --strip-components=1"
      ],
      "execution_count": 4,
      "outputs": []
    },
    {
      "cell_type": "markdown",
      "metadata": {
        "id": "HaF8v-UBTcxq"
      },
      "source": [
        "\n",
        "\n",
        " `regions.npy` contains the region name and network assignment for each parcel.\n",
        "\n",
        "Detailed information about the name used for each region is provided [in the Supplement](https://static-content.springer.com/esm/art%3A10.1038%2Fnature18933/MediaObjects/41586_2016_BFnature18933_MOESM330_ESM.pdf) to [Glasser et al. 2016](https://www.nature.com/articles/nature18933).\n",
        "\n",
        "Information about the network parcellation is provided in [Ji et al, 2019](https://www.ncbi.nlm.nih.gov/pmc/articles/PMC6289683/)."
      ]
    },
    {
      "cell_type": "code",
      "metadata": {
        "id": "28q_GDlXOyMi"
      },
      "source": [
        "regions = np.load(f\"{HCP_DIR}/regions.npy\").T\n",
        "region_info = dict(\n",
        "    name=regions[0].tolist(),\n",
        "    network=regions[1],\n",
        "    myelin=regions[2].astype(np.float),\n",
        ")"
      ],
      "execution_count": 5,
      "outputs": []
    },
    {
      "cell_type": "code",
      "metadata": {
        "id": "pnq7H5h_IxLi"
      },
      "source": [
        "def get_image_ids(name):\n",
        "  \"\"\"Get the 1-based image indices for runs in a given experiment.\n",
        "\n",
        "    Args:\n",
        "      name (str) : Name of experiment (\"rest\" or name of task) to load\n",
        "    Returns:\n",
        "      run_ids (list of int) : Numeric ID for experiment image files\n",
        "\n",
        "  \"\"\"\n",
        "  run_ids = [\n",
        "    i for i, code in enumerate(BOLD_NAMES, 1) if name.upper() in code\n",
        "  ]\n",
        "  if not run_ids:\n",
        "    raise ValueError(f\"Found no data for '{name}''\")\n",
        "  return run_ids\n",
        "\n",
        "def load_timeseries(subject, name, runs=None, concat=True, remove_mean=True):\n",
        "  \"\"\"Load timeseries data for a single subject.\n",
        "  \n",
        "  Args:\n",
        "    subject (int): 0-based subject ID to load\n",
        "    name (str) : Name of experiment (\"rest\" or name of task) to load\n",
        "    run (None or int or list of ints): 0-based run(s) of the task to load,\n",
        "      or None to load all runs.\n",
        "    concat (bool) : If True, concatenate multiple runs in time\n",
        "    remove_mean (bool) : If True, subtract the parcel-wise mean\n",
        "\n",
        "  Returns\n",
        "    ts (n_parcel x n_tp array): Array of BOLD data values\n",
        "\n",
        "  \"\"\"\n",
        "  # Get the list relative 0-based index of runs to use\n",
        "  if runs is None:\n",
        "    runs = range(N_RUNS_REST) if name == \"rest\" else range(N_RUNS_TASK)\n",
        "  elif isinstance(runs, int):\n",
        "    runs = [runs]\n",
        "\n",
        "  # Get the first (1-based) run id for this experiment \n",
        "  offset = get_image_ids(name)[0]\n",
        "\n",
        "  # Load each run's data\n",
        "  bold_data = [\n",
        "      load_single_timeseries(subject, offset + run, remove_mean) for run in runs\n",
        "  ]\n",
        "\n",
        "  # Optionally concatenate in time\n",
        "  if concat:\n",
        "    bold_data = np.concatenate(bold_data, axis=-1)\n",
        "\n",
        "  return bold_data\n",
        "\n",
        "\n",
        "def load_single_timeseries(subject, bold_run, remove_mean=True):\n",
        "  \"\"\"Load timeseries data for a single subject and single run.\n",
        "  \n",
        "  Args:\n",
        "    subject (int): 0-based subject ID to load\n",
        "    bold_run (int): 1-based run index, across all tasks\n",
        "    remove_mean (bool): If True, subtract the parcel-wise mean\n",
        "\n",
        "  Returns\n",
        "    ts (n_parcel x n_timepoint array): Array of BOLD data values\n",
        "\n",
        "  \"\"\"\n",
        "  bold_path = f\"{HCP_DIR}/subjects/{subject}/timeseries\"\n",
        "  bold_file = f\"bold{bold_run}_Atlas_MSMAll_Glasser360Cortical.npy\"\n",
        "  ts = np.load(f\"{bold_path}/{bold_file}\")\n",
        "  if remove_mean:\n",
        "    ts -= ts.mean(axis=1, keepdims=True)\n",
        "  return ts\n",
        "\n",
        "def load_evs(subject, name, condition):\n",
        "  \"\"\"Load EV (explanatory variable) data for one task condition.\n",
        "\n",
        "  Args:\n",
        "    subject (int): 0-based subject ID to load\n",
        "    name (str) : Name of task\n",
        "    condition (str) : Name of condition\n",
        "\n",
        "  Returns\n",
        "    evs (list of dicts): A dictionary with the onset, duration, and amplitude\n",
        "      of the condition for each run.\n",
        "\n",
        "  \"\"\"\n",
        "  evs = []\n",
        "  for id in get_image_ids(name):\n",
        "    task_key = BOLD_NAMES[id - 1]\n",
        "    ev_file = f\"{HCP_DIR}/subjects/{subject}/EVs/{task_key}/{condition}.txt\"\n",
        "    ev = dict(zip([\"onset\", \"duration\", \"amplitude\"], np.genfromtxt(ev_file).T))\n",
        "    evs.append(ev)\n",
        "  return evs"
      ],
      "execution_count": 6,
      "outputs": []
    },
    {
      "cell_type": "markdown",
      "metadata": {
        "id": "qQzCA99sMryW"
      },
      "source": [
        "## Task-based analysis"
      ]
    },
    {
      "cell_type": "code",
      "metadata": {
        "id": "HgnEuN0gMqxP"
      },
      "source": [
        "def condition_frames(run_evs, skip=0):\n",
        "  \"\"\"Identify timepoints corresponding to a given condition in each run.\n",
        "\n",
        "  Args:\n",
        "    run_evs (list of dicts) : Onset and duration of the event, per run\n",
        "    skip (int) : Ignore this many frames at the start of each trial, to account\n",
        "      for hemodynamic lag\n",
        "\n",
        "  Returns:\n",
        "    frames_list (list of 1D arrays): Flat arrays of frame indices, per run\n",
        "\n",
        "  \"\"\"\n",
        "  frames_list = []\n",
        "  for ev in run_evs:\n",
        "\n",
        "    # Determine when trial starts, rounded down\n",
        "    start = np.floor(ev[\"onset\"] / TR).astype(int)\n",
        "\n",
        "    # Use trial duration to determine how many frames to include for trial\n",
        "    duration = np.ceil(ev[\"duration\"] / TR).astype(int)\n",
        "\n",
        "    # Take the range of frames that correspond to this specific trial\n",
        "    frames = [s + np.arange(skip, d) for s, d in zip(start, duration)]\n",
        "    \n",
        "    # remove  frames>176 from the frames\n",
        "    \n",
        "    frames_list.append(np.concatenate(frames))\n",
        "  run_1 = frames_list[0] \n",
        "  run_2 = frames_list[1] \n",
        "  run_1 = run_1[run_1<176]\n",
        "  run_2 = run_2[run_2<176]\n",
        "  list = [run_1,run_2]\n",
        "  return list\n",
        "\n",
        "\n",
        "def selective_average(timeseries_data, ev, skip=0):\n",
        "  \"\"\"Take the temporal mean across frames for a given condition.\n",
        "\n",
        "  Args:\n",
        "    timeseries_data (array or list of arrays): n_parcel x n_tp arrays\n",
        "    ev (dict or list of dicts): Condition timing information\n",
        "    skip (int) : Ignore this many frames at the start of each trial, to account\n",
        "      for hemodynamic lag\n",
        "\n",
        "  Returns:\n",
        "    avg_data (1D array): Data averagted across selected image frames based\n",
        "    on condition timing\n",
        "\n",
        "  \"\"\"\n",
        "  # Ensure that we have lists of the same length\n",
        "  if not isinstance(timeseries_data, list):\n",
        "    timeseries_data = [timeseries_data]\n",
        "  if not isinstance(ev, list):\n",
        "    ev = [ev]\n",
        "  if len(timeseries_data) != len(ev):\n",
        "    raise ValueError(\"Length of `timeseries_data` and `ev` must match.\")\n",
        "\n",
        "  # Identify the indices of relevant frames\n",
        "  frames = condition_frames(ev)\n",
        "\n",
        "  # Select the frames from each image\n",
        "  selected_data = []\n",
        "  for run_data, run_frames in zip(timeseries_data, frames):\n",
        "    selected_data.append(run_data[:, run_frames])\n",
        "    run_frames = run_frames[run_frames<run_data.shape[1]]\n",
        "\n",
        "  # Take the average in each parcel\n",
        "  avg_data = np.concatenate(selected_data, axis=-1).mean(axis=-1)\n",
        "\n",
        "  return avg_data"
      ],
      "execution_count": 7,
      "outputs": []
    },
    {
      "cell_type": "markdown",
      "metadata": {
        "id": "RKOzUn2iPnQL"
      },
      "source": [
        "Detailed task description for each of the tasks is given [here](https://protocols.humanconnectome.org/HCP/3T/task-fMRI-protocol-details.html).\n",
        "\n",
        "Condition names for each task:\n",
        "\n",
        "```\n",
        "- MOTOR: cue, lf, lh, rf, rh, t\n",
        "- WM:\n",
        "    0bk_body, 0bk_faces, 0bk_nir, 0bk_placed, 0bk_tools, \n",
        "    2bk_body, 2bk_faces, 2bk_nir, 2bk_placed, 2bk_tools,\n",
        "    0bk_cor, 0bk_err,\n",
        "    2bk_cor, 2bk_err,\n",
        "    all_bk_cor, all_bk_err\n",
        "- EMOTION: feat, neutral\n",
        "- GAMBLING: loss, loss_event, win, win_event, neut_event\n",
        "- LANGUAGE:\n",
        "    cue,\n",
        "    math, story\n",
        "    present_math, present_story,\n",
        "    question_math, question_story,\n",
        "    response_math, response_story\n",
        "- RELATIONAL: error, match, relation\n",
        "- SOCIAL: mental_resp, mental, other_resp, rnd\n",
        "```"
      ]
    },
    {
      "cell_type": "code",
      "metadata": {
        "id": "MObaV3AT043I",
        "colab": {
          "base_uri": "https://localhost:8080/"
        },
        "outputId": "49d99c83-2f7c-4226-d08b-3801b5740ac4"
      },
      "source": [
        "#Load each subject's data for a specific task, separately for each run:\n",
        "timeseries_task = []\n",
        "for subject in subjects:\n",
        "  timeseries_task.append(load_timeseries(subject, \"emotion\", concat=False))\n",
        "print(type(timeseries_task[0]))\n",
        "print(np.shape(timeseries_task))"
      ],
      "execution_count": 9,
      "outputs": [
        {
          "output_type": "stream",
          "text": [
            "<class 'list'>\n",
            "(339, 2, 360, 176)\n"
          ],
          "name": "stdout"
        }
      ]
    },
    {
      "cell_type": "code",
      "metadata": {
        "id": "oDnGGT7HPR2Y"
      },
      "source": [
        "task = \"emotion\"\n",
        "conditions = [\"fear\", \"neut\"] \n",
        "\n",
        "#Timings: fear 50 neut 77\n",
        "\n",
        "fear_data = np.zeros((339,2,360,99))\n",
        "fear_label = np.zeros((339,2,360,99))\n",
        "neut_data = np.zeros((339,2,360,126))\n",
        "neut_label = np.zeros((339,2,360,126))\n",
        "#Labels: 0-blank 1-fear 2-shape\n",
        "label = np.zeros((339,2,360,176))\n",
        "\n",
        "for subject in subjects:\n",
        "  evs = [load_evs(subject, task, cond) for cond in conditions]\n",
        "  evs_fear = load_evs(subject, task, conditions[0])\n",
        "  evs_neut = load_evs(subject, task, conditions[1])\n",
        "  \n",
        "  fear_indices = condition_frames(evs_fear, skip=0)\n",
        "  neut_indices = condition_frames(evs_neut, skip=0)\n",
        "  \n",
        "  #labeling\n",
        "  for i in fear_indices[0]:\n",
        "    for j in range(360):\n",
        "      label[subject][0][j][i]=1\n",
        "  \n",
        "  for i in fear_indices[1]:\n",
        "    for j in range(360):\n",
        "      label[subject][1][j][i]=1\n",
        "\n",
        "  for i in neut_indices[0]:\n",
        "    for j in range(360):\n",
        "      label[subject][0][j][i]=2\n",
        "  \n",
        "  for i in neut_indices[1]:\n",
        "    for j in range(360):\n",
        "      label[subject][1][j][i]=2\n",
        "  \n",
        "  label[subject,0,:,162:176] = 0\n",
        "  label[subject,1,:,162:176] = 0\n",
        "  \n",
        "#Division\n",
        "\n",
        "  temp1 = np.array(timeseries_task[subject][0][:][:])\n",
        "  fear_data[subject,0,:,:] = np.delete(temp1, [ 15,  16,  17,  18,  19,  20,  21,  22,  23,  24,  25,  26,  27,\n",
        "        28,  29,  30,  31,  32,  33,  34,  35,  36,  37,  38,  39,  73,\n",
        "        74,  75,  76,  77,  78,  79,  80,  81,  82,  83,  84,  85,  86,\n",
        "        87,  88,  89,  90,  91,  92,  93,  94,  95,  96,  97, 132, 133,\n",
        "       134, 135, 136, 137, 138, 139, 140, 141, 142, 143, 144, 145, 146,\n",
        "       147, 148, 149, 150, 151, 152, 153, 154, 155, 156, 157, 98] , 1)\n",
        "  \n",
        "  temp3 = np.array(label[subject][0][:][:])\n",
        "  fear_label[subject,0,:,:] = np.delete(temp3, [ 15,  16,  17,  18,  19,  20,  21,  22,  23,  24,  25,  26,  27,\n",
        "        28,  29,  30,  31,  32,  33,  34,  35,  36,  37,  38,  39,  73,\n",
        "        74,  75,  76,  77,  78,  79,  80,  81,  82,  83,  84,  85,  86,\n",
        "        87,  88,  89,  90,  91,  92,  93,  94,  95,  96,  97, 132, 133,\n",
        "       134, 135, 136, 137, 138, 139, 140, 141, 142, 143, 144, 145, 146,\n",
        "       147, 148, 149, 150, 151, 152, 153, 154, 155, 156, 157, 98] , 1)\n",
        "  \n",
        "  temp2 = np.array(timeseries_task[subject][0][:][:])\n",
        "  neut_data[subject,0,:,:] = np.delete(temp2, [ 44,  45,  46,  47,  48,  49,  50,  51,  52,  53,  54,  55,  56,\n",
        "        57,  58,  59,  60,  61,  62,  63,  64,  65,  66,  67,  68, 103,\n",
        "       104, 105, 106, 107, 108, 109, 110, 111, 112, 113, 114, 115, 116,\n",
        "       117, 118, 119, 120, 121, 122, 123, 124, 125, 126, 127], 1)\n",
        "  \n",
        "  temp4 = np.array(label[subject][0][:][:])\n",
        "  neut_label[subject,0,:,:] = np.delete(temp2, [ 44,  45,  46,  47,  48,  49,  50,  51,  52,  53,  54,  55,  56,\n",
        "        57,  58,  59,  60,  61,  62,  63,  64,  65,  66,  67,  68, 103,\n",
        "       104, 105, 106, 107, 108, 109, 110, 111, 112, 113, 114, 115, 116,\n",
        "       117, 118, 119, 120, 121, 122, 123, 124, 125, 126, 127], 1)\n",
        "\n",
        "#fear_data , fear_label = blank+fear (339,2,360,99)\n",
        "#neut_data , neut_label = blank+neut (339,2,360,126)"
      ],
      "execution_count": 10,
      "outputs": []
    },
    {
      "cell_type": "markdown",
      "metadata": {
        "id": "kZ2vOTl4X5_J"
      },
      "source": [
        "## Data pre-processing:"
      ]
    },
    {
      "cell_type": "code",
      "metadata": {
        "id": "dUilvhn0rN-S"
      },
      "source": [
        "#pre-processing\n",
        "#normalise and centre the data\n",
        "#subject and run wise\n",
        "timeseries_task = np.array(timeseries_task)\n",
        "\n",
        "scaler = StandardScaler()\n",
        "for subject in subjects:\n",
        "  scaler.fit(timeseries_task[subject,0,:,:])\n",
        "  timeseries_task[subject,0,:,:] = scaler.transform(timeseries_task[subject,0,:,:])\n",
        "  scaler.fit(timeseries_task[subject,1,:,:])\n",
        "  timeseries_task[subject,1,:,:] = scaler.transform(timeseries_task[subject,1,:,:])\n"
      ],
      "execution_count": 11,
      "outputs": []
    },
    {
      "cell_type": "markdown",
      "metadata": {
        "id": "gG5zOIl6X_bY"
      },
      "source": [
        "# tSNE  for one subject, embedded into 2D plan\n"
      ]
    },
    {
      "cell_type": "code",
      "metadata": {
        "id": "PDm6G_OKq6Yj",
        "colab": {
          "base_uri": "https://localhost:8080/",
          "height": 296
        },
        "outputId": "064bc217-a932-404f-9bab-6f85bcce4d7a"
      },
      "source": [
        "#t-SNE within one subject data \n",
        "subject = 0\n",
        "run = 0\n",
        "data = np.array(timeseries_task)\n",
        "data = data[subject,run,:,:]\n",
        "data = data.T\n",
        "lab_frames = label[subject,run,0,:]\n",
        "# print(np.shape(lab_frames))\n",
        "# print(np.shape(data))\n",
        "\n",
        "p = [5, 24, 30, 50]\n",
        "tsne_model = TSNE(n_components=2, perplexity=1,random_state=2020) \n",
        "embed = tsne_model.fit_transform(data)\n",
        "visualize_components(embed[:, 0], embed[:, 1], lab_frames)\n",
        "print(i)\n"
      ],
      "execution_count": 12,
      "outputs": [
        {
          "output_type": "display_data",
          "data": {
            "image/png": "[encoded data removed]",
            "text/plain": [
              "<Figure size 432x288 with 2 Axes>"
            ]
          },
          "metadata": {
            "tags": [],
            "needs_background": "light"
          }
        },
        {
          "output_type": "stream",
          "text": [
            "156\n"
          ],
          "name": "stdout"
        }
      ]
    },
    {
      "cell_type": "markdown",
      "metadata": {
        "id": "ihIJywAJYHig"
      },
      "source": [
        "# PCA for one subject embedded into 2d plane\n"
      ]
    },
    {
      "cell_type": "code",
      "metadata": {
        "id": "mFdiL87Zs8Nf",
        "colab": {
          "base_uri": "https://localhost:8080/",
          "height": 279
        },
        "outputId": "3c996ae8-e20b-4221-9243-59ca9e627d79"
      },
      "source": [
        "#PCA within one subject\n",
        "subject = 0\n",
        "data = np.array(timeseries_task)\n",
        "data = data[0,0,:,:]\n",
        "data = data.T\n",
        "lab_frames = label[0,0,0,:]\n",
        "# print(np.shape(lab_frames))\n",
        "# print(np.shape(data))\n",
        "\n",
        "pca_model = PCA(n_components=2)\n",
        "pca_model.fit(data)\n",
        "embed = pca_model.transform(data)\n",
        "visualize_components(embed[:, 0], embed[:, 1], lab_frames)"
      ],
      "execution_count": 13,
      "outputs": [
        {
          "output_type": "display_data",
          "data": {
            "image/png": "[encoded data removed]",
            "text/plain": [
              "<Figure size 432x288 with 2 Axes>"
            ]
          },
          "metadata": {
            "tags": [],
            "needs_background": "light"
          }
        }
      ]
    },
    {
      "cell_type": "markdown",
      "metadata": {
        "id": "4K_5SrRmYNEc"
      },
      "source": [
        "Logistic regression / Bernoulli GLM for one subject \n",
        "using L1 and L2\n"
      ]
    },
    {
      "cell_type": "code",
      "metadata": {
        "id": "o4GyPuMMsEsg",
        "colab": {
          "base_uri": "https://localhost:8080/"
        },
        "outputId": "fff9bd7f-c384-4f78-c0a5-1372d5e4220f"
      },
      "source": [
        "#logistic regression- Bernoulli GLM\n",
        "#single subject model\n",
        "subject = 0\n",
        "\n",
        "sub = np.array(timeseries_task)\n",
        "X = sub[subject,0,:,:]\n",
        "X = X.T\n",
        "y = label[subject,0,0,:]\n",
        "log_reg = LogisticRegression(penalty=\"none\")\n",
        "\n",
        "log_reg.fit(X, y)\n",
        "y_pred = log_reg.predict(X)\n",
        "accuracy = (y == y_pred).mean()\n",
        "print(f\"Accuracy on the training data: {accuracy:.2%}\")\n",
        "\n",
        "accuracies = cross_val_score(LogisticRegression(penalty='none'), X, y, cv=8)\n",
        "print(np.mean(accuracies))\n",
        "\n",
        "coefs = log_reg.coef_\n",
        "# print(np.shape(coefs))\n",
        "# plt.plot(coefs)\n",
        "# plt.show"
      ],
      "execution_count": 17,
      "outputs": [
        {
          "output_type": "stream",
          "text": [
            "Accuracy on the training data: 100.00%\n",
            "0.6136363636363635\n"
          ],
          "name": "stdout"
        }
      ]
    },
    {
      "cell_type": "code",
      "metadata": {
        "id": "7oZ1MRrrek4E",
        "colab": {
          "base_uri": "https://localhost:8080/"
        },
        "outputId": "ec02819a-ca0b-4d44-a2d4-c4eb2dc15c2c"
      },
      "source": [
        "#L1 regularization\n",
        "log_reg_l1 = LogisticRegression(penalty=\"l1\", C=1, solver=\"saga\", max_iter=5000).fit(X, y)\n",
        "y_pred_l1 = log_reg_l1.predict(X)\n",
        "accuracy = (y == y_pred).mean()\n",
        "print(f\"Accuracy on the training data: {accuracy:.2%}\")\n",
        "\n",
        "accuracies_l1 = cross_val_score(LogisticRegression(penalty=\"l1\", C=1, solver=\"saga\", max_iter=5000), X, y, cv=8)\n",
        "print(np.mean(accuracies_l1))\n",
        "\n",
        "coefs_l1 = log_reg_l1.coef_\n",
        "print(np.shape(coefs_l1))\n",
        "# plt.plot(coefs_l1)\n",
        "# plt.show"
      ],
      "execution_count": 19,
      "outputs": [
        {
          "output_type": "stream",
          "text": [
            "Accuracy on the training data: 100.00%\n",
            "0.5625\n",
            "(3, 360)\n"
          ],
          "name": "stdout"
        }
      ]
    },
    {
      "cell_type": "code",
      "metadata": {
        "id": "ErRtehjGSPZZ",
        "colab": {
          "base_uri": "https://localhost:8080/"
        },
        "outputId": "8a77a22d-5c4f-4f48-ab9d-d699dfdc40d4"
      },
      "source": [
        "#L2 regularization\n",
        "log_reg_l2 = LogisticRegression(penalty=\"l2\", C=1, solver=\"saga\", max_iter=5000).fit(X, y)\n",
        "y_pred_l2 = log_reg_l2.predict(X)\n",
        "accuracy = (y == y_pred).mean()\n",
        "print(f\"Accuracy on the training data: {accuracy:.2%}\")\n",
        "\n",
        "accuracies_l2 = cross_val_score(LogisticRegression(penalty=\"l2\", C=1, solver=\"saga\", max_iter=5000), X, y, cv=8)\n",
        "print(np.mean(accuracies_l2))\n",
        "\n",
        "coefs_l2 = log_reg_l2.coef_\n",
        "print(np.shape(coefs_l2))\n",
        "# plt.plot(coefs_l2)\n",
        "# plt.show"
      ],
      "execution_count": 20,
      "outputs": [
        {
          "output_type": "stream",
          "text": [
            "Accuracy on the training data: 100.00%\n",
            "0.6420454545454545\n",
            "(3, 360)\n"
          ],
          "name": "stdout"
        }
      ]
    },
    {
      "cell_type": "markdown",
      "metadata": {
        "id": "m_H6IUeDYYSM"
      },
      "source": [
        "Logistic regression / Bernoulli GLM for all subjects"
      ]
    },
    {
      "cell_type": "code",
      "metadata": {
        "id": "x5HtEZ0Dj7ab",
        "colab": {
          "base_uri": "https://localhost:8080/"
        },
        "outputId": "65d9b13b-8213-4c47-fdff-302d72947139"
      },
      "source": [
        "#all subjects logistic regression\n",
        "len_frames = 176\n",
        "sub = np.array(timeseries_task)\n",
        "X = sub[0,0,:,:]\n",
        "X = X.T\n",
        "x = sub[0,1,:,:]\n",
        "x = x.T\n",
        "X = np.vstack((X,x))\n",
        "\n",
        "Y = label[0,0,0,:]#.reshape(len_frames,1)\n",
        "y = label[0,1,0,:]#.reshape(len_frames,1)\n",
        "Y = np.hstack((Y,y))\n",
        "total_sub = 339\n",
        "for subject in range(1,total_sub):\n",
        "  x = sub[subject,0,:,:]\n",
        "  x = x.T\n",
        "  X = np.vstack((X,x))\n",
        "  x = sub[subject,1,:,:]\n",
        "  x = x.T\n",
        "  X = np.vstack((X,x))\n",
        "\n",
        "  y = label[subject,0,0,:]#.reshape(len_frames,1)\n",
        "  Y = np.hstack((Y,y))\n",
        "  y = label[subject,1,0,:]#.reshape(len_frames,1)\n",
        "  Y = np.hstack((Y,y))\n",
        "\n",
        "print(np.shape(X))\n",
        "print(np.shape(Y)) \n",
        "\n"
      ],
      "execution_count": 21,
      "outputs": [
        {
          "output_type": "stream",
          "text": [
            "(119328, 360)\n",
            "(119328,)\n"
          ],
          "name": "stdout"
        }
      ]
    },
    {
      "cell_type": "code",
      "metadata": {
        "id": "1QrDQKGGeQ39"
      },
      "source": [
        "\n",
        "log_reg = LogisticRegression(penalty=\"none\")\n",
        "log_reg.fit(X, Y)\n",
        "y_pred = log_reg.predict(X)\n",
        "\n",
        "#L2\n",
        "log_reg_l2 = LogisticRegression(penalty=\"l2\", C=1, solver=\"saga\", max_iter=5000).fit(X, Y)\n",
        "y_pred_l2 = log_reg_l2.predict(X)\n",
        "\n",
        "#L1\n",
        "log_reg_l2 = LogisticRegression(penalty=\"l1\", C=1, solver=\"saga\", max_iter=5000).fit(X, Y)\n",
        "y_pred_l2 = log_reg_l2.predict(X)"
      ],
      "execution_count": 23,
      "outputs": []
    },
    {
      "cell_type": "code",
      "metadata": {
        "id": "GJlNcsCKrQbn",
        "colab": {
          "base_uri": "https://localhost:8080/"
        },
        "outputId": "2d644f01-073a-458d-ed55-501de9be9147"
      },
      "source": [
        "accuracy = (Y == y_pred).mean()\n",
        "print(f\"Accuracy on the training data: {accuracy:.2%}\")"
      ],
      "execution_count": 24,
      "outputs": [
        {
          "output_type": "stream",
          "text": [
            "Accuracy on the training data: 66.75%\n"
          ],
          "name": "stdout"
        }
      ]
    },
    {
      "cell_type": "markdown",
      "metadata": {
        "id": "ul75yDmvZ2Lb"
      },
      "source": [
        "\n",
        "Plot group-averaged contrast value across regions:"
      ]
    },
    {
      "cell_type": "code",
      "metadata": {
        "id": "TfKUDyI6Yygd",
        "colab": {
          "base_uri": "https://localhost:8080/"
        },
        "outputId": "4b89c188-6f28-4737-e27b-299e514b9bb9"
      },
      "source": [
        "accuracies = cross_val_score(LogisticRegression(penalty='none'), X, Y, cv=8)\n",
        "print(np.mean(accuracies))"
      ],
      "execution_count": 25,
      "outputs": [
        {
          "output_type": "stream",
          "text": [
            "0.6597361893268973\n"
          ],
          "name": "stdout"
        }
      ]
    },
    {
      "cell_type": "code",
      "metadata": {
        "id": "IfjwxgrklHaT"
      },
      "source": [
        ""
      ],
      "execution_count": null,
      "outputs": []
    }
  ]
}